{
 "cells": [
  {
   "cell_type": "code",
   "execution_count": null,
   "id": "443a8c73",
   "metadata": {
    "pycharm": {
     "name": "#%%\n"
    }
   },
   "outputs": [],
   "source": [
    "import os\n",
    "import numpy as np\n",
    "import pandas as pd\n",
    "import random\n",
    "import matplotlib.pyplot as plt\n",
    "import seaborn as sns\n",
    "from IPython.display import display\n",
    "\n",
    "from contextlib import contextmanager\n",
    "from time import time\n",
    "from tqdm import tqdm\n",
    "import datetime as dt\n"
   ]
  },
  {
   "cell_type": "code",
   "execution_count": null,
   "id": "fe36e82b",
   "metadata": {
    "pycharm": {
     "name": "#%%\n"
    }
   },
   "outputs": [],
   "source": [
    "df = pd.read_csv(\"nyc_carpooling.csv\")"
   ]
  },
  {
   "cell_type": "code",
   "execution_count": null,
   "id": "374ceb23",
   "metadata": {
    "pycharm": {
     "name": "#%%\n"
    }
   },
   "outputs": [],
   "source": [
    "dff = df[((df.PULocationID >= 200) & (df.PULocationID < 220)) & ((df.DOLocationID > 200) & (df.DOLocationID <= 220)) & (df.PULocationID != df.DOLocationID) & df.trip_distance > 0.0]\n",
    "dff"
   ]
  },
  {
   "cell_type": "code",
   "execution_count": null,
   "id": "1ad1a6b4",
   "metadata": {
    "pycharm": {
     "name": "#%%\n"
    }
   },
   "outputs": [],
   "source": [
    "sff = dff.groupby(['PULocationID', 'DOLocationID']).min().reset_index()\n",
    "sff"
   ]
  },
  {
   "cell_type": "code",
   "execution_count": null,
   "id": "18af2664",
   "metadata": {
    "pycharm": {
     "name": "#%%\n"
    }
   },
   "outputs": [],
   "source": [
    "df1=df[[\"PULocationID\",\"DOLocationID\",\"trip_distance\"]]\n",
    "df1.head()"
   ]
  },
  {
   "cell_type": "code",
   "execution_count": null,
   "id": "21fe4a1e",
   "metadata": {
    "pycharm": {
     "name": "#%%\n"
    }
   },
   "outputs": [],
   "source": [
    "def buildgraph(cab_dataset):\n",
    "    unique_points_pickup = set(cab_dataset['PULocationID'])\n",
    "    unique_points_drop = set(cab_dataset['DOLocationID'])\n",
    "    unique_points = unique_points_pickup.union(unique_points_drop)\n",
    "\n",
    "    matrix = [[0]*(len(unique_points)) for i in range(len(unique_points))]  \n",
    "    pickup = list(cab_dataset['PULocationID'])\n",
    "    drop = list(cab_dataset['DOLocationID'])\n",
    "    dist = list(cab_dataset['trip_distance'])\n",
    "\n",
    "    dictionary = {}\n",
    "    dictionary2 = {}\n",
    "    for index, val in enumerate(unique_points):\n",
    "        dictionary[val] = index\n",
    "    \n",
    "    for i in range(len(pickup)):\n",
    "        dictionary2[(pickup[i],drop[i])] = dist[i]\n",
    " \n",
    "    for p in pickup:\n",
    "        for d in drop:\n",
    "            i = dictionary[p]\n",
    "            j = dictionary[d]\n",
    "            try:\n",
    "                val = dictionary2[(p,d)]\n",
    "                matrix[i][j] = val\n",
    "            except:\n",
    "                continue\n",
    "    return matrix"
   ]
  },
  {
   "cell_type": "code",
   "execution_count": null,
   "id": "a1082974",
   "metadata": {
    "pycharm": {
     "name": "#%%\n"
    }
   },
   "outputs": [],
   "source": [
    "matrix = (buildgraph(df1))"
   ]
  },
  {
   "cell_type": "code",
   "execution_count": null,
   "outputs": [],
   "source": [
    "min_cost = 1000000000\n",
    "busRoute = []\n",
    "source = 200\n",
    "thresholds = dict({\n",
    "        \"seats\": 8,\n",
    "        \"max_buses\": 5,\n",
    "        \"max_denials\": 5\n",
    "    })"
   ],
   "metadata": {
    "collapsed": false,
    "pycharm": {
     "name": "#%%\n"
    }
   }
  },
  {
   "cell_type": "code",
   "execution_count": null,
   "outputs": [],
   "source": [
    "pass_data = pd.read_csv(\"Passenger_Data.csv\")\n",
    "pass_data"
   ],
   "metadata": {
    "collapsed": false,
    "pycharm": {
     "name": "#%%\n"
    }
   }
  },
  {
   "cell_type": "code",
   "execution_count": null,
   "outputs": [],
   "source": [
    "filtered_data = pass_data[(pass_data.booking_timestamp >= 100000) & (pass_data.booking_timestamp <= 110000)]\n",
    "filtered_data"
   ],
   "metadata": {
    "collapsed": false,
    "pycharm": {
     "name": "#%%\n"
    }
   }
  },
  {
   "cell_type": "code",
   "execution_count": null,
   "outputs": [],
   "source": [
    "def get_dropoff_by_passId(passenger_ids):\n",
    "    dropoff_loc_ids = []\n",
    "    for passenger in passenger_ids:\n",
    "        dropoff_loc_ids.append(int(filtered_data[filtered_data.passenger_id == passenger].dropoff_location))\n",
    "    return dropoff_loc_ids"
   ],
   "metadata": {
    "collapsed": false,
    "pycharm": {
     "name": "#%%\n"
    }
   }
  },
  {
   "cell_type": "code",
   "execution_count": null,
   "outputs": [],
   "source": [
    "def findMinCostRoute(graph, visited, req_nodes, src, dest, current_cost):\n",
    "    global min_cost\n",
    "    global busRoute\n",
    "\n",
    "    # If destination is reached\n",
    "    if (src == dest):\n",
    "        # Set flag\n",
    "        flag = True\n",
    "        # Visit all the intermediate nodes\n",
    "        for i in req_nodes:\n",
    "            # If any intermediate node is not visited, clear flag\n",
    "            if not visited[i]:\n",
    "                flag = False\n",
    "                break\n",
    "\n",
    "        # If all intermediate nodes are visited, return\n",
    "        if (flag):\n",
    "            # Update the min_cost\n",
    "            min_cost = min(min_cost, current_cost)\n",
    "            busRoute.append(src)\n",
    "        return;\n",
    "\n",
    "    else:\n",
    "        # set the current node as visited\n",
    "        visited[src] = True\n",
    "        busRoute.append(src)\n",
    "        # Traverse adjacent locations\n",
    "        for node in graph[src]:\n",
    "            if not visited[node[0]]:\n",
    "                # Mark the adjacent node visited\n",
    "                visited[node[0]] = True\n",
    "                # Find minimum cost path with adjacent node as source\n",
    "                findMinCostRoute(graph, visited, req_nodes, node[0], dest, current_cost + node[1]);\n",
    "                # Clear visited adjacent node\n",
    "                visited[node[0]] = False\n",
    "\n",
    "        # Mark the source unvisited\n",
    "        visited[src] = False;"
   ],
   "metadata": {
    "collapsed": false,
    "pycharm": {
     "name": "#%%\n"
    }
   }
  },
  {
   "cell_type": "code",
   "execution_count": null,
   "outputs": [],
   "source": [
    "def allocatePassengers(dropoff_locations, source):\n",
    "    # unique_nodes = dropoff_locations\n",
    "    unique_nodes = set(dropoff_locations)\n",
    "    # unique_nodes = {x for x in dropoff_locations}\n",
    "    graph = prepare_graph(unique_nodes, source)\n",
    "    return invokeDFS_Algo(graph, unique_nodes, source)"
   ],
   "metadata": {
    "collapsed": false,
    "pycharm": {
     "name": "#%%\n"
    }
   }
  },
  {
   "cell_type": "markdown",
   "source": [],
   "metadata": {
    "collapsed": false,
    "pycharm": {
     "name": "#%% md\n"
    }
   }
  },
  {
   "cell_type": "code",
   "execution_count": null,
   "outputs": [],
   "source": [
    "def prepare_graph(unique_nodes, source):\n",
    "    graph = dict()\n",
    "    for dropId in unique_nodes:\n",
    "        #print(\"drop, \", dropId, \" \", matrix[dropId - 200][:218-200])\n",
    "        tmp_matrix_row = matrix[dropId - source]\n",
    "        edges = []\n",
    "        for id in unique_nodes:\n",
    "            if id == dropId:\n",
    "                continue\n",
    "            value = 99 if tmp_matrix_row[id - source] == 0 else tmp_matrix_row[id - source]\n",
    "            edges.append([id, value])\n",
    "        graph[dropId] = edges\n",
    "\n",
    "    # append source\n",
    "    source_row = matrix[0]\n",
    "    edges = []\n",
    "    for id in unique_nodes:\n",
    "        value = 99 if source_row[id - source] == 0 else source_row[id - source]\n",
    "        edges.append([id, value])\n",
    "    graph[source] = edges\n",
    "\n",
    "    return graph"
   ],
   "metadata": {
    "collapsed": false,
    "pycharm": {
     "name": "#%%\n"
    }
   }
  },
  {
   "cell_type": "code",
   "execution_count": null,
   "outputs": [],
   "source": [
    "from collections import OrderedDict\n",
    "\n",
    "def invokeDFS_Algo(graph, unique_nodes, source):\n",
    "    # Number of nodes\n",
    "    n = len(unique_nodes);\n",
    "    min_cost = 99999999999\n",
    "    best_route = []\n",
    "    for destination in unique_nodes:\n",
    "        # Destination\n",
    "        dest = destination;\n",
    "\n",
    "        vis = dict()\n",
    "        for i in unique_nodes:\n",
    "            vis[i] = False\n",
    "\n",
    "        # Stores intermediate nodes\n",
    "        necessary = [];\n",
    "        for i in unique_nodes:\n",
    "            if i != source and i != dest:\n",
    "                necessary.append(i)\n",
    "        busRoute = []\n",
    "        findMinCostRoute(graph, vis, necessary, source, dest, 0);\n",
    "        # If no path is found\n",
    "        if min_cost == 1000000000:\n",
    "            print(-1)\n",
    "        else:\n",
    "            #print(min_cost)\n",
    "            #print(\"route\", list(OrderedDict.fromkeys(busRoute)))\n",
    "            if min_cost < min_cost:\n",
    "                print(\"busRoute\", busRoute)\n",
    "                best_route = list(OrderedDict.fromkeys(busRoute))\n",
    "                min_cost = min_cost\n",
    "\n",
    "        # print(\"best_route first\", best_route)\n",
    "        return min_cost, best_route\n"
   ],
   "metadata": {
    "collapsed": false,
    "pycharm": {
     "name": "#%%\n"
    }
   }
  },
  {
   "cell_type": "code",
   "execution_count": null,
   "outputs": [],
   "source": [
    "from itertools import combinations\n",
    "\n",
    "def process_passenger_batch(passenger_batch):\n",
    "\n",
    "    higher_priority_pass =  passenger_batch[passenger_batch.denials >= 5]\n",
    "    highest_priority_passengers = list(higher_priority_pass.passenger_id)\n",
    "    remaining_seats = 15 - len(higher_priority_pass)\n",
    "\n",
    "    data = passenger_batch[passenger_batch.denials < 5].head(remaining_seats)\n",
    "    passenger_list = list(data.passenger_id)\n",
    "    comb = combinations(passenger_list, 8 - len(higher_priority_pass))\n",
    "    min_cost_of_all = 9999999\n",
    "    best_route_of_all = []\n",
    "    final_input_of_all = []\n",
    "    for input in comb:\n",
    "        final_input = list(input) + highest_priority_passengers\n",
    "        unique_nodes = get_dropoff_by_passId(final_input)\n",
    "        cost, route = allocatePassengers(unique_nodes, source)\n",
    "        if cost < min_cost_of_all:\n",
    "            best_route_of_all = route\n",
    "            min_cost_of_all = cost\n",
    "            final_input_of_all = final_input\n",
    "\n",
    "    return final_input_of_all, best_route_of_all, min_cost_of_all"
   ],
   "metadata": {
    "collapsed": false,
    "pycharm": {
     "name": "#%%\n"
    }
   }
  },
  {
   "cell_type": "code",
   "execution_count": null,
   "outputs": [],
   "source": [
    "def allocatePassengerSeats(adjacency_matrix, filtered_pass_data, thresholds):\n",
    "# Passengers with higher denails and eralier booking time should be at the top\n",
    "\n",
    "# Now select top 8 records from the data and start iterations:\n",
    "# Iter 1: min_cost route is found, now select other 10 people from the list to perform some more permuations/combinations\n",
    "# If another min_cost route found then include that path as a BUS route and select those 8 passengers for BUS 1\n",
    "\n",
    "# Remove allocated passangers from waiting queue and increas the denial count against passenegers evluated in Iter 1\n",
    "# Iter 2: Now, select another 8 passengers from the remaining list and perform MST. Again select 10 more passenegers and look for possible MST\n",
    "# If MST is found for any passenger(s) then include it as a route for BUS 2 and allocate seats to those 8 passengers\n",
    "\n",
    "# Repeat above till algorithm finishes with BUS 5 or all records are processed.\n",
    "\n",
    "# retun dictionary of {BUS:{passenger_ids, route, cost}}, updated_passenger_data_file(basically with updated denial ccounts)\n",
    "#     sorted_pass_data = sorted(filtered_pass_data, key=lambda x: (-x.denials, x.booking_timestamp))\n",
    "    buses = []\n",
    "    # print(\"filtered_pass_data len before\", len(filtered_pass_data))\n",
    "\n",
    "    for i in range(thresholds[\"max_buses\"]):\n",
    "        # exit if no passengers remaining\n",
    "        if not len(filtered_pass_data):\n",
    "            break\n",
    "\n",
    "        # passengers = sorted_pass_data[:8]\n",
    "        # shortest path algo here\n",
    "        passenger_ids, best_route, min_cost = process_passenger_batch(filtered_pass_data)\n",
    "        bus = dict({\n",
    "            \"passenger_ids\": passenger_ids,\n",
    "            \"route\": best_route,\n",
    "            \"cost\": min_cost\n",
    "        })\n",
    "        buses.append(bus)\n",
    "        # Pop added passengers from list\n",
    "        filtered_pass_data = filtered_pass_data[~filtered_pass_data[\"passenger_id\"].isin(passenger_ids)]\n",
    "\n",
    "        # update denial count after all iterations\n",
    "        filtered_pass_data[\"denials\"] += 1\n",
    "        # print(\"filtered_pass_data len after\", len(filtered_pass_data))\n",
    "\n",
    "\n",
    "    return buses"
   ],
   "metadata": {
    "collapsed": false,
    "pycharm": {
     "name": "#%%\n"
    }
   }
  },
  {
   "cell_type": "markdown",
   "source": [],
   "metadata": {
    "collapsed": false,
    "pycharm": {
     "name": "#%% md\n"
    }
   }
  },
  {
   "cell_type": "code",
   "execution_count": null,
   "outputs": [],
   "source": [
    "# invoke passenger seats allocation algorithm\n",
    "print(allocatePassengerSeats(matrix, filtered_data, thresholds))"
   ],
   "metadata": {
    "collapsed": false,
    "pycharm": {
     "name": "#%%\n"
    }
   }
  }
 ],
 "metadata": {
  "kernelspec": {
   "display_name": "Python 3 (ipykernel)",
   "language": "python",
   "name": "python3"
  },
  "language_info": {
   "codemirror_mode": {
    "name": "ipython",
    "version": 3
   },
   "file_extension": ".py",
   "mimetype": "text/x-python",
   "name": "python",
   "nbconvert_exporter": "python",
   "pygments_lexer": "ipython3",
   "version": "3.9.12"
  },
  "vscode": {
   "interpreter": {
    "hash": "b984b6cd31d680ad135f7e15da2d3b38dd94d62b48019a92616e61cf3e8911ce"
   }
  }
 },
 "nbformat": 4,
 "nbformat_minor": 5
}